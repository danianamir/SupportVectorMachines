{
 "cells": [
  {
   "cell_type": "markdown",
   "id": "95953b50",
   "metadata": {},
   "source": [
    "# <center>Machine Learning Course Project</center>\n",
    "# <center>Maximum Margin Classifiers, Soft Margin Classifiers</center>\n",
    "# <center>Dania Namiraniyan</center>\n",
    "# <center>Instructor: Dr. Katanforoosh</center>"
   ]
  },
  {
   "cell_type": "markdown",
   "id": "ccb8476c",
   "metadata": {},
   "source": [
    "\n",
    "#### ......................................................................................................................................................................................................................................\n",
    "# <center>Maximum Margin Classifiers</center>\n",
    "<br>\n",
    "<br>\n",
    " \n",
    "<br>   \n",
    "\n",
    "<div style='font-size:x-large;'>  \n",
    "    Before we begin, let's define a few concepts:\n",
    "</div> \n",
    "\n",
    "<br>\n",
    "<br>\n",
    "<div style='font-size:x-large;'> \n",
    "    \n",
    "   - **Classifier:** A hyperplane that separates data into two different classes.\n",
    "        \n",
    "   - **Margin:** The distance from the classifier to the nearest data point.\n",
    "        \n",
    "   - **Support Vectors:** Data points that lie on the boundary.\n",
    "</div>   \n",
    "  \n",
    "<br>\n",
    "<br>\n",
    "<br>\n",
    "<img src='svm2.jpg'/>\n",
    "\n",
    "<br>\n",
    "<br>\n",
    "<br>\n",
    "\n",
    "<div style='font-size:large;'>\n",
    "    In this section, our goal is to find a classifier that:\n",
    "    \n",
    "         1- Classifies all data points correctly.\n",
    "         2- Maximizes the distance from the hyperplane (classifier) to the nearest data point, i.e., maximizes the margin.\n",
    "</div> \n",
    "    \n",
    "<div style='font-size:large;'>    \n",
    "    This is also known as the optimal hyperplane.\n",
    "</div> \n",
    " \n",
    "<br>\n",
    "<br>\n",
    "<br>\n",
    " \n",
    "<div style='font-size:large;'>  \n",
    "    Since the data is linearly separable, there exists a hyperplane such as  \n",
    "    $\\begin{aligned}y(x)= \\boldsymbol{w}^\\text{T}\\boldsymbol{x}+b &= 0 \\\\ \\end{aligned}$\n",
    "    such that if\n",
    "    $t_{n}=+1$\n",
    "    then $y(x)>0$ and if $t_{n}=-1$, then $y(x)<0$.\n",
    "    There are many possible solutions for this classification, as illustrated below:\n",
    "\n",
    "</div>\n",
    "<br>\n",
    "<br>\n",
    "<img src='svm3.jpg'/>\n",
    "<br>\n",
    "<br>\n",
    "    \n",
    "<div style='font-size:large;'>      \n",
    "    However, our goal is not just to find a hyperplane that classifies correctly, but to find the optimal hyperplane that maximizes the margin.\n",
    "    We use the formula for the distance from a point to a line:\n",
    "<br>\n",
    "<center> $\\frac{|{w}^{T}{x}+b|} { ||w||}$</center>\n",
    "<br>\n",
    "   which represents the distance from the data points to the hyperplane. We want to minimize this to find the closest data point to the hyperplane. Since $t_{n}\\cdot y(x)>0$, we can remove the absolute value and rewrite the formula as:\n",
    "\n",
    "<br>    \n",
    "<center> $\\frac{t_{n} \\cdot ({w}^{T}{x}_{n}+b)} { ||w||}$</center> \n",
    "<br>    \n",
    "   Finally, we want to select the optimal and maximum margin, which is obtained from this relationship:\n",
    "<br>\n",
    "<br>\n",
    "<center> $arg max [{{\\frac{1}{ ||w||}}min[{t_{n} \\cdot ({w}^{T}{x}_{n}+b)}}]] $</center>   \n",
    "<br>    \n",
    "    Solving this optimization problem is difficult, but it can be simplified by assuming that scaling $w$ and $b$ by the same factor does not affect the final result, allowing us to make the following assumption:\n",
    "<center> ${t_{n} \\cdot ({w}^{T}{x}_{n}+b)}=1 $</center> \n",
    "<br>\n",
    "<br>   \n",
    "    \n",
    "<img src='svm8.jpg'/>\n",
    "<br>\n",
    "<br>     \n",
    "    \n",
    "    This simplifies the optimization problem to the following form:\n",
    "<center> $arg max \\frac{1}{||w||}$</center> \n",
    "<br>  \n",
    "<center> $st:{t_{n} \\cdot ({w}^{T}{x}_{n}+b)}\\geq1 $</center>\n",
    "<br>\n",
    "<br>    \n",
    "    Maximizing this is equivalent to solving the following optimization problem, which gives us the desired classifier:\n",
    "\n",
    "<br>\n",
    "<br>\n",
    "<center> $arg min  \\cdot \\frac{1}{2}{||w||^2}$</center> \n",
    "<br> \n",
    "<center> $st:{t_{n} \\cdot ({w}^{T}{x}_{n}+b)}\\geq1 $</center> \n",
    "<br>\n",
    "</div>   \n",
    "<br>\n",
    "<br>\n",
    "<br>\n",
    "<br>\n",
    "\n",
    "\n",
    "# <center>Soft Margin Classifiers</center>    \n",
    "\n",
    "<div style='font-size:large;'>  \n",
    "    In this section, we assume that our dataset contains outliers (data points that are far from the main data) or that the data is not linearly separable:\n",
    "</div> \n",
    "<br>\n",
    "<br>\n",
    "<br>\n",
    " <img src='svm4_5.jpg'/>\n",
    " <img src='svm4.jpg'/>\n",
    " <br>\n",
    "<br>\n",
    "<br>\n",
    " \n",
    "<div style='font-size:large;'>    \n",
    "    If the data contains outliers, the max margin classifier is very sensitive to them. \n",
    "    If the data is not linearly separable, it is impossible to separate the data without error. Therefore, we assume that some data points may not be classified correctly and can lie within the margin.\n",
    "</div> \n",
    "<br>\n",
    "<br>\n",
    "<div style='font-size:large;'>  \n",
    "   To handle this, we introduce a slack variable \n",
    "   $ξ_{n}=|t_{n}-y(x_{n})|$\n",
    "   where:\n",
    "   \n",
    "   - If $ξ_{n}=0$, the data point is correctly classified and lies on the correct side or on the margin.\n",
    "   \n",
    "   - If $0<ξ_{n}\\leq1$, the data point lies within the margin but on the correct side of the hyperplane.\n",
    "   \n",
    "   - If $ξ_{n}>1$, the data point lies within the margin but on the wrong side of the hyperplane.\n",
    "\n",
    "</div> \n",
    "<br><br>\n",
    " <img src='svm5.jpg'/>\n",
    "<br><br>\n",
    "<div style='font-size:large;'>  \n",
    "   In this case, the constraints of the optimization equation become:\n",
    "    $t_{n}y(x_{n})\\geq 1-ξ_{n}$\n",
    "    meaning that data points can lie within the margin. The optimization equation is generally written as follows:\n",
    "</div> \n",
    "\n",
    "<center> $arg min  \\cdot \\frac{1}{2}{||w||^2}+C\\sum_{n=1}^{N}ξ_{n}$</center>\n",
    "<br>\n",
    "<center> $t_{n}y(x_{n})\\geq 1-ξ_{n}$  for n=1,2,....N</center>\n",
    "<br>\n",
    "<center> $ξ_{n}\\geq 0$  for n=1,2,....N</center>\n",
    "\n",
    "\n",
    "<div style='font-size:large;'>  \n",
    "In the above optimization problem, the coefficient C serves as a regularization parameter to ensure that the slack variables do not exceed a certain amount. If $c→ ∞$, the problem becomes equivalent to the maximum margin classifier. As C decreases, the margin increases. For example, as shown below, reducing C increases the margin.\n",
    "\n",
    "</div> \n",
    "\n",
    " <img src='svm6.jpg'/>\n",
    "\n",
    " <img src='svm7.jpg'/>\n"
   ]
  },
  {
   "cell_type": "markdown",
   "id": "83661b34",
   "metadata": {},
   "source": [
    "# <center>Pima Indians Diabetes Database</center>\n",
    "<div dir='ltr' style='font-size:large;'>  \n",
    "    The goal of this dataset is to determine whether an individual has diabetes or not, based on a series of medical indicators.\n",
    "   \n",
    "    **Pregnancies:** The number of times the individual has been pregnant.\n",
    "    \n",
    "    **Glucose:** The individual's blood glucose level.\n",
    "    \n",
    "    **BloodPressure:** The individual's blood pressure level.\n",
    "    \n",
    "    **SkinThickness:** The individual's body mass index (BMI) for non-fat mass.\n",
    "   \n",
    "    **Insulin:** The amount of insulin injected.\n",
    "   \n",
    "    **BMI:** The individual's body mass index (BMI).\n",
    "   \n",
    "    **Diabetes Pedigree Function:** Indicates the likelihood of the individual developing diabetes based on their family history.\n",
    "   \n",
    "    **Age:** The individual's age.\n",
    "   \n",
    "    **Outcome:** Indicates whether the individual is at risk of developing diabetes or not.\n",
    "</div> \n"
   ]
  },
  {
   "cell_type": "markdown",
   "id": "65c4b5b7",
   "metadata": {},
   "source": [
    "### <center>Dataset Shape</center>\n",
    "<div dir='ltr' style='font-size:large;'>  \n",
    "This dataset contains 768 rows and 9 columns.\n",
    "</div>\n"
   ]
  },
  {
   "cell_type": "markdown",
   "id": "0b813361",
   "metadata": {},
   "source": [
    "### <center> dataset link</center>\n",
    "#### https://www.kaggle.com/datasets/uciml/pima-indians-diabetes-database"
   ]
  },
  {
   "cell_type": "markdown",
   "id": "158bf62d",
   "metadata": {},
   "source": [
    "# <center>Implementation on Data</center>"
   ]
  },
  {
   "cell_type": "code",
   "execution_count": 5,
   "id": "196b57cf",
   "metadata": {
    "scrolled": true
   },
   "outputs": [],
   "source": [
    "import numpy as np\n",
    "import pandas as pd\n",
    "import seaborn as sns\n",
    "import matplotlib.pyplot as plt \n",
    "\n",
    "\n",
    "from sklearn.svm import SVC\n",
    "from sklearn.metrics import accuracy_score\n",
    "from sklearn.metrics import confusion_matrix\n",
    "from sklearn.model_selection import train_test_split"
   ]
  },
  {
   "cell_type": "markdown",
   "id": "dd1257be",
   "metadata": {},
   "source": [
    "<div dir='ltr' style='font-size:large;'>  \n",
    "    In the section below, we will store the dataset in a DataFrame and display it.\n",
    "</div>\n"
   ]
  },
  {
   "cell_type": "code",
   "execution_count": 8,
   "id": "97b9a55a",
   "metadata": {
    "scrolled": true
   },
   "outputs": [
    {
     "data": {
      "text/html": [
       "<div>\n",
       "<style scoped>\n",
       "    .dataframe tbody tr th:only-of-type {\n",
       "        vertical-align: middle;\n",
       "    }\n",
       "\n",
       "    .dataframe tbody tr th {\n",
       "        vertical-align: top;\n",
       "    }\n",
       "\n",
       "    .dataframe thead th {\n",
       "        text-align: right;\n",
       "    }\n",
       "</style>\n",
       "<table border=\"1\" class=\"dataframe\">\n",
       "  <thead>\n",
       "    <tr style=\"text-align: right;\">\n",
       "      <th></th>\n",
       "      <th>Pregnancies</th>\n",
       "      <th>Glucose</th>\n",
       "      <th>BloodPressure</th>\n",
       "      <th>SkinThickness</th>\n",
       "      <th>Insulin</th>\n",
       "      <th>BMI</th>\n",
       "      <th>DiabetesPedigreeFunction</th>\n",
       "      <th>Age</th>\n",
       "      <th>Outcome</th>\n",
       "    </tr>\n",
       "  </thead>\n",
       "  <tbody>\n",
       "    <tr>\n",
       "      <th>0</th>\n",
       "      <td>6</td>\n",
       "      <td>148</td>\n",
       "      <td>72</td>\n",
       "      <td>35</td>\n",
       "      <td>0</td>\n",
       "      <td>33.6</td>\n",
       "      <td>0.627</td>\n",
       "      <td>50</td>\n",
       "      <td>1</td>\n",
       "    </tr>\n",
       "    <tr>\n",
       "      <th>1</th>\n",
       "      <td>1</td>\n",
       "      <td>85</td>\n",
       "      <td>66</td>\n",
       "      <td>29</td>\n",
       "      <td>0</td>\n",
       "      <td>26.6</td>\n",
       "      <td>0.351</td>\n",
       "      <td>31</td>\n",
       "      <td>0</td>\n",
       "    </tr>\n",
       "    <tr>\n",
       "      <th>2</th>\n",
       "      <td>8</td>\n",
       "      <td>183</td>\n",
       "      <td>64</td>\n",
       "      <td>0</td>\n",
       "      <td>0</td>\n",
       "      <td>23.3</td>\n",
       "      <td>0.672</td>\n",
       "      <td>32</td>\n",
       "      <td>1</td>\n",
       "    </tr>\n",
       "    <tr>\n",
       "      <th>3</th>\n",
       "      <td>1</td>\n",
       "      <td>89</td>\n",
       "      <td>66</td>\n",
       "      <td>23</td>\n",
       "      <td>94</td>\n",
       "      <td>28.1</td>\n",
       "      <td>0.167</td>\n",
       "      <td>21</td>\n",
       "      <td>0</td>\n",
       "    </tr>\n",
       "    <tr>\n",
       "      <th>4</th>\n",
       "      <td>0</td>\n",
       "      <td>137</td>\n",
       "      <td>40</td>\n",
       "      <td>35</td>\n",
       "      <td>168</td>\n",
       "      <td>43.1</td>\n",
       "      <td>2.288</td>\n",
       "      <td>33</td>\n",
       "      <td>1</td>\n",
       "    </tr>\n",
       "    <tr>\n",
       "      <th>...</th>\n",
       "      <td>...</td>\n",
       "      <td>...</td>\n",
       "      <td>...</td>\n",
       "      <td>...</td>\n",
       "      <td>...</td>\n",
       "      <td>...</td>\n",
       "      <td>...</td>\n",
       "      <td>...</td>\n",
       "      <td>...</td>\n",
       "    </tr>\n",
       "    <tr>\n",
       "      <th>763</th>\n",
       "      <td>10</td>\n",
       "      <td>101</td>\n",
       "      <td>76</td>\n",
       "      <td>48</td>\n",
       "      <td>180</td>\n",
       "      <td>32.9</td>\n",
       "      <td>0.171</td>\n",
       "      <td>63</td>\n",
       "      <td>0</td>\n",
       "    </tr>\n",
       "    <tr>\n",
       "      <th>764</th>\n",
       "      <td>2</td>\n",
       "      <td>122</td>\n",
       "      <td>70</td>\n",
       "      <td>27</td>\n",
       "      <td>0</td>\n",
       "      <td>36.8</td>\n",
       "      <td>0.340</td>\n",
       "      <td>27</td>\n",
       "      <td>0</td>\n",
       "    </tr>\n",
       "    <tr>\n",
       "      <th>765</th>\n",
       "      <td>5</td>\n",
       "      <td>121</td>\n",
       "      <td>72</td>\n",
       "      <td>23</td>\n",
       "      <td>112</td>\n",
       "      <td>26.2</td>\n",
       "      <td>0.245</td>\n",
       "      <td>30</td>\n",
       "      <td>0</td>\n",
       "    </tr>\n",
       "    <tr>\n",
       "      <th>766</th>\n",
       "      <td>1</td>\n",
       "      <td>126</td>\n",
       "      <td>60</td>\n",
       "      <td>0</td>\n",
       "      <td>0</td>\n",
       "      <td>30.1</td>\n",
       "      <td>0.349</td>\n",
       "      <td>47</td>\n",
       "      <td>1</td>\n",
       "    </tr>\n",
       "    <tr>\n",
       "      <th>767</th>\n",
       "      <td>1</td>\n",
       "      <td>93</td>\n",
       "      <td>70</td>\n",
       "      <td>31</td>\n",
       "      <td>0</td>\n",
       "      <td>30.4</td>\n",
       "      <td>0.315</td>\n",
       "      <td>23</td>\n",
       "      <td>0</td>\n",
       "    </tr>\n",
       "  </tbody>\n",
       "</table>\n",
       "<p>768 rows × 9 columns</p>\n",
       "</div>"
      ],
      "text/plain": [
       "     Pregnancies  Glucose  BloodPressure  SkinThickness  Insulin   BMI  \\\n",
       "0              6      148             72             35        0  33.6   \n",
       "1              1       85             66             29        0  26.6   \n",
       "2              8      183             64              0        0  23.3   \n",
       "3              1       89             66             23       94  28.1   \n",
       "4              0      137             40             35      168  43.1   \n",
       "..           ...      ...            ...            ...      ...   ...   \n",
       "763           10      101             76             48      180  32.9   \n",
       "764            2      122             70             27        0  36.8   \n",
       "765            5      121             72             23      112  26.2   \n",
       "766            1      126             60              0        0  30.1   \n",
       "767            1       93             70             31        0  30.4   \n",
       "\n",
       "     DiabetesPedigreeFunction  Age  Outcome  \n",
       "0                       0.627   50        1  \n",
       "1                       0.351   31        0  \n",
       "2                       0.672   32        1  \n",
       "3                       0.167   21        0  \n",
       "4                       2.288   33        1  \n",
       "..                        ...  ...      ...  \n",
       "763                     0.171   63        0  \n",
       "764                     0.340   27        0  \n",
       "765                     0.245   30        0  \n",
       "766                     0.349   47        1  \n",
       "767                     0.315   23        0  \n",
       "\n",
       "[768 rows x 9 columns]"
      ]
     },
     "execution_count": 8,
     "metadata": {},
     "output_type": "execute_result"
    }
   ],
   "source": [
    "df = pd.read_csv(\"diabetes.csv\")\n",
    "df"
   ]
  },
  {
   "cell_type": "markdown",
   "id": "829a3cbc",
   "metadata": {},
   "source": [
    "<div dir='ltr' style='font-size:large;'>  \n",
    "    Now, we will print values such as the number of data points, the mean, minimum, maximum, and other statistics for each part.\n",
    "</div>\n"
   ]
  },
  {
   "cell_type": "code",
   "execution_count": 9,
   "id": "24dd1f05",
   "metadata": {
    "scrolled": false
   },
   "outputs": [
    {
     "data": {
      "text/html": [
       "<div>\n",
       "<style scoped>\n",
       "    .dataframe tbody tr th:only-of-type {\n",
       "        vertical-align: middle;\n",
       "    }\n",
       "\n",
       "    .dataframe tbody tr th {\n",
       "        vertical-align: top;\n",
       "    }\n",
       "\n",
       "    .dataframe thead th {\n",
       "        text-align: right;\n",
       "    }\n",
       "</style>\n",
       "<table border=\"1\" class=\"dataframe\">\n",
       "  <thead>\n",
       "    <tr style=\"text-align: right;\">\n",
       "      <th></th>\n",
       "      <th>Pregnancies</th>\n",
       "      <th>Glucose</th>\n",
       "      <th>BloodPressure</th>\n",
       "      <th>SkinThickness</th>\n",
       "      <th>Insulin</th>\n",
       "      <th>BMI</th>\n",
       "      <th>DiabetesPedigreeFunction</th>\n",
       "      <th>Age</th>\n",
       "      <th>Outcome</th>\n",
       "    </tr>\n",
       "  </thead>\n",
       "  <tbody>\n",
       "    <tr>\n",
       "      <th>count</th>\n",
       "      <td>768.000000</td>\n",
       "      <td>768.000000</td>\n",
       "      <td>768.000000</td>\n",
       "      <td>768.000000</td>\n",
       "      <td>768.000000</td>\n",
       "      <td>768.000000</td>\n",
       "      <td>768.000000</td>\n",
       "      <td>768.000000</td>\n",
       "      <td>768.000000</td>\n",
       "    </tr>\n",
       "    <tr>\n",
       "      <th>mean</th>\n",
       "      <td>3.845052</td>\n",
       "      <td>120.894531</td>\n",
       "      <td>69.105469</td>\n",
       "      <td>20.536458</td>\n",
       "      <td>79.799479</td>\n",
       "      <td>31.992578</td>\n",
       "      <td>0.471876</td>\n",
       "      <td>33.240885</td>\n",
       "      <td>0.348958</td>\n",
       "    </tr>\n",
       "    <tr>\n",
       "      <th>std</th>\n",
       "      <td>3.369578</td>\n",
       "      <td>31.972618</td>\n",
       "      <td>19.355807</td>\n",
       "      <td>15.952218</td>\n",
       "      <td>115.244002</td>\n",
       "      <td>7.884160</td>\n",
       "      <td>0.331329</td>\n",
       "      <td>11.760232</td>\n",
       "      <td>0.476951</td>\n",
       "    </tr>\n",
       "    <tr>\n",
       "      <th>min</th>\n",
       "      <td>0.000000</td>\n",
       "      <td>0.000000</td>\n",
       "      <td>0.000000</td>\n",
       "      <td>0.000000</td>\n",
       "      <td>0.000000</td>\n",
       "      <td>0.000000</td>\n",
       "      <td>0.078000</td>\n",
       "      <td>21.000000</td>\n",
       "      <td>0.000000</td>\n",
       "    </tr>\n",
       "    <tr>\n",
       "      <th>25%</th>\n",
       "      <td>1.000000</td>\n",
       "      <td>99.000000</td>\n",
       "      <td>62.000000</td>\n",
       "      <td>0.000000</td>\n",
       "      <td>0.000000</td>\n",
       "      <td>27.300000</td>\n",
       "      <td>0.243750</td>\n",
       "      <td>24.000000</td>\n",
       "      <td>0.000000</td>\n",
       "    </tr>\n",
       "    <tr>\n",
       "      <th>50%</th>\n",
       "      <td>3.000000</td>\n",
       "      <td>117.000000</td>\n",
       "      <td>72.000000</td>\n",
       "      <td>23.000000</td>\n",
       "      <td>30.500000</td>\n",
       "      <td>32.000000</td>\n",
       "      <td>0.372500</td>\n",
       "      <td>29.000000</td>\n",
       "      <td>0.000000</td>\n",
       "    </tr>\n",
       "    <tr>\n",
       "      <th>75%</th>\n",
       "      <td>6.000000</td>\n",
       "      <td>140.250000</td>\n",
       "      <td>80.000000</td>\n",
       "      <td>32.000000</td>\n",
       "      <td>127.250000</td>\n",
       "      <td>36.600000</td>\n",
       "      <td>0.626250</td>\n",
       "      <td>41.000000</td>\n",
       "      <td>1.000000</td>\n",
       "    </tr>\n",
       "    <tr>\n",
       "      <th>max</th>\n",
       "      <td>17.000000</td>\n",
       "      <td>199.000000</td>\n",
       "      <td>122.000000</td>\n",
       "      <td>99.000000</td>\n",
       "      <td>846.000000</td>\n",
       "      <td>67.100000</td>\n",
       "      <td>2.420000</td>\n",
       "      <td>81.000000</td>\n",
       "      <td>1.000000</td>\n",
       "    </tr>\n",
       "  </tbody>\n",
       "</table>\n",
       "</div>"
      ],
      "text/plain": [
       "       Pregnancies     Glucose  BloodPressure  SkinThickness     Insulin  \\\n",
       "count   768.000000  768.000000     768.000000     768.000000  768.000000   \n",
       "mean      3.845052  120.894531      69.105469      20.536458   79.799479   \n",
       "std       3.369578   31.972618      19.355807      15.952218  115.244002   \n",
       "min       0.000000    0.000000       0.000000       0.000000    0.000000   \n",
       "25%       1.000000   99.000000      62.000000       0.000000    0.000000   \n",
       "50%       3.000000  117.000000      72.000000      23.000000   30.500000   \n",
       "75%       6.000000  140.250000      80.000000      32.000000  127.250000   \n",
       "max      17.000000  199.000000     122.000000      99.000000  846.000000   \n",
       "\n",
       "              BMI  DiabetesPedigreeFunction         Age     Outcome  \n",
       "count  768.000000                768.000000  768.000000  768.000000  \n",
       "mean    31.992578                  0.471876   33.240885    0.348958  \n",
       "std      7.884160                  0.331329   11.760232    0.476951  \n",
       "min      0.000000                  0.078000   21.000000    0.000000  \n",
       "25%     27.300000                  0.243750   24.000000    0.000000  \n",
       "50%     32.000000                  0.372500   29.000000    0.000000  \n",
       "75%     36.600000                  0.626250   41.000000    1.000000  \n",
       "max     67.100000                  2.420000   81.000000    1.000000  "
      ]
     },
     "execution_count": 9,
     "metadata": {},
     "output_type": "execute_result"
    }
   ],
   "source": [
    "df.describe()"
   ]
  },
  {
   "cell_type": "markdown",
   "id": "6bc7eb40",
   "metadata": {},
   "source": [
    "<div dir='ltr' style='font-size:large;'>  \n",
    "    As seen, in this dataset, 268 individuals are at risk of developing diabetes, while 500 individuals are not.\n",
    "</div>\n"
   ]
  },
  {
   "cell_type": "code",
   "execution_count": 10,
   "id": "7886803a",
   "metadata": {},
   "outputs": [
    {
     "data": {
      "text/plain": [
       "0    500\n",
       "1    268\n",
       "Name: Outcome, dtype: int64"
      ]
     },
     "execution_count": 10,
     "metadata": {},
     "output_type": "execute_result"
    }
   ],
   "source": [
    "df['Outcome'].value_counts()"
   ]
  },
  {
   "cell_type": "markdown",
   "id": "9fc4f2b4",
   "metadata": {},
   "source": [
    "<div dir='ltr' style='font-size:large;'>  \n",
    "    Now we will check whether any data has null values. As indicated, none of the data contain null values.\n",
    "</div>\n"
   ]
  },
  {
   "cell_type": "code",
   "execution_count": 11,
   "id": "93277ffd",
   "metadata": {},
   "outputs": [
    {
     "data": {
      "text/plain": [
       "Pregnancies                 0\n",
       "Glucose                     0\n",
       "BloodPressure               0\n",
       "SkinThickness               0\n",
       "Insulin                     0\n",
       "BMI                         0\n",
       "DiabetesPedigreeFunction    0\n",
       "Age                         0\n",
       "Outcome                     0\n",
       "dtype: int64"
      ]
     },
     "execution_count": 11,
     "metadata": {},
     "output_type": "execute_result"
    }
   ],
   "source": [
    "df.isnull().sum()"
   ]
  },
  {
   "cell_type": "markdown",
   "id": "de14e004",
   "metadata": {},
   "source": [
    "<div dir='ltr' style='font-size:large;'>  \n",
    "    In this section, we will examine whether there are any outliers in the data by plotting these charts. From observing the charts, we can see that there are outlier values.\n",
    "</div>\n"
   ]
  },
  {
   "cell_type": "code",
   "execution_count": 12,
   "id": "613f7aa2",
   "metadata": {
    "scrolled": false
   },
   "outputs": [
    {
     "data": {
      "image/png": "[encoded data removed]",
      "text/plain": [
       "<Figure size 432x288 with 1 Axes>"
      ]
     },
     "metadata": {
      "needs_background": "light"
     },
     "output_type": "display_data"
    },
    {
     "data": {
      "image/png": "[encoded data removed]",
      "text/plain": [
       "<Figure size 432x288 with 1 Axes>"
      ]
     },
     "metadata": {
      "needs_background": "light"
     },
     "output_type": "display_data"
    },
    {
     "data": {
      "image/png": "[encoded data removed]",
      "text/plain": [
       "<Figure size 432x288 with 1 Axes>"
      ]
     },
     "metadata": {
      "needs_background": "light"
     },
     "output_type": "display_data"
    },
    {
     "data": {
      "image/png": "[encoded data removed]",
      "text/plain": [
       "<Figure size 432x288 with 1 Axes>"
      ]
     },
     "metadata": {
      "needs_background": "light"
     },
     "output_type": "display_data"
    },
    {
     "data": {
      "image/png": "[encoded data removed]",
      "text/plain": [
       "<Figure size 432x288 with 1 Axes>"
      ]
     },
     "metadata": {
      "needs_background": "light"
     },
     "output_type": "display_data"
    },
    {
     "data": {
      "image/png": "[encoded data removed]",
      "text/plain": [
       "<Figure size 432x288 with 1 Axes>"
      ]
     },
     "metadata": {
      "needs_background": "light"
     },
     "output_type": "display_data"
    },
    {
     "data": {
      "image/png": "[encoded data removed]",
      "text/plain": [
       "<Figure size 432x288 with 1 Axes>"
      ]
     },
     "metadata": {
      "needs_background": "light"
     },
     "output_type": "display_data"
    },
    {
     "data": {
      "image/png": "[encoded data removed]",
      "text/plain": [
       "<Figure size 432x288 with 1 Axes>"
      ]
     },
     "metadata": {
      "needs_background": "light"
     },
     "output_type": "display_data"
    },
    {
     "data": {
      "image/png": "[encoded data removed]",
      "text/plain": [
       "<Figure size 432x288 with 1 Axes>"
      ]
     },
     "metadata": {
      "needs_background": "light"
     },
     "output_type": "display_data"
    }
   ],
   "source": [
    "\n",
    "\n",
    "plt.figure()\n",
    "df.boxplot('Pregnancies')\n",
    "plt.title('Pregnancies')\n",
    "\n",
    "plt.figure()\n",
    "df.boxplot('Glucose')\n",
    "plt.title('Glucose')\n",
    "\n",
    "plt.figure()\n",
    "df.boxplot('BloodPressure')\n",
    "plt.title('BloodPressure')\n",
    "\n",
    "plt.figure()\n",
    "df.boxplot('SkinThickness')\n",
    "plt.title('SkinThickness')\n",
    "\n",
    "plt.figure()\n",
    "df.boxplot('Insulin')\n",
    "plt.title('Insulin')\n",
    "\n",
    "plt.figure()\n",
    "df.boxplot('BMI')\n",
    "plt.title('BMI')\n",
    "\n",
    "plt.figure()\n",
    "df.boxplot('DiabetesPedigreeFunction')\n",
    "plt.title('DiabetesPedigreeFunction')\n",
    "\n",
    "plt.figure()\n",
    "df.boxplot('Age')\n",
    "plt.title('Age')\n",
    "\n",
    "plt.figure()\n",
    "df.boxplot('Outcome')\n",
    "plt.title('Outcome')\n",
    "\n",
    "plt.show()\n",
    "\n",
    "\n",
    "\n",
    "\n",
    "\n"
   ]
  },
  {
   "cell_type": "markdown",
   "id": "8f33cbdb",
   "metadata": {},
   "source": [
    "<div dir='ltr' style='font-size:large;'>  \n",
    "    In this section, we will split the data into test and training sets to train the model. 20% of the data will be used for testing, and 80% will be used for training the model.\n",
    "</div>\n"
   ]
  },
  {
   "cell_type": "code",
   "execution_count": 13,
   "id": "bda611db",
   "metadata": {
    "scrolled": true
   },
   "outputs": [],
   "source": [
    "x = df.drop(\"Outcome\",axis=1)\n",
    "y= df[\"Outcome\"] \n",
    "x_train, x_test, y_train, y_test = train_test_split(x, y, test_size=0.2, random_state=42)\n",
    "\n"
   ]
  },
  {
   "cell_type": "markdown",
   "id": "c8de1d75",
   "metadata": {},
   "source": [
    "### <center>Evaluation of Different Parameter Values for C</center>\n",
    "\n",
    "<div dir='ltr' style='font-size:large;'> \n",
    "    As mentioned, this dataset contains outlier values, which makes the use of a maximum margin classifier unsuitable. Additionally, we noted that as the value of C increases, fewer data points are misclassified, and the model approaches the maximum margin classifier. If the data are linearly separable, with a high value of C, the model's accuracy can reach 100%.\n",
    "</div>\n"
   ]
  },
  {
   "cell_type": "markdown",
   "id": "857f7965",
   "metadata": {},
   "source": [
    "<div dir='ltr' style='font-size:large;'> \n",
    "    With C=10000, we obtained an accuracy of 0.740. Since we did not achieve 100% accuracy with a high value of C, it can be said that the data are not linearly separable and some data points are inevitably misclassified. We also obtained the following values:\n",
    "\n",
    "    - True Positive = 76\n",
    "    - False Positive = 23\n",
    "    - True Negative = 38\n",
    "    - False Negative = 17\n",
    "</div>\n"
   ]
  },
  {
   "cell_type": "code",
   "execution_count": 43,
   "id": "ad78116c",
   "metadata": {},
   "outputs": [
    {
     "data": {
      "text/plain": [
       "SVC(C=10000, kernel='linear')"
      ]
     },
     "execution_count": 43,
     "metadata": {},
     "output_type": "execute_result"
    }
   ],
   "source": [
    "svm = SVC(kernel=\"linear\", C=10000)\n",
    "svm.fit(x_train, y_train)\n"
   ]
  },
  {
   "cell_type": "code",
   "execution_count": 44,
   "id": "bb11a20d",
   "metadata": {},
   "outputs": [
    {
     "data": {
      "text/plain": [
       "0.7402597402597403"
      ]
     },
     "execution_count": 44,
     "metadata": {},
     "output_type": "execute_result"
    }
   ],
   "source": [
    "y_pred=svm.predict(x_test)\n",
    "score = accuracy_score( y_test, y_pred)  \n",
    "score"
   ]
  },
  {
   "cell_type": "code",
   "execution_count": 45,
   "id": "1be74451",
   "metadata": {},
   "outputs": [
    {
     "data": {
      "text/plain": [
       "<AxesSubplot:>"
      ]
     },
     "execution_count": 45,
     "metadata": {},
     "output_type": "execute_result"
    },
    {
     "data": {
      "image/png": "[encoded data removed]",
      "text/plain": [
       "<Figure size 432x288 with 2 Axes>"
      ]
     },
     "metadata": {
      "needs_background": "light"
     },
     "output_type": "display_data"
    }
   ],
   "source": [
    "cm = confusion_matrix(y_test, y_pred)\n",
    "cm_matrix = pd.DataFrame(data=cm, columns=['Actual Positive:1', 'Actual Negative:0'], \n",
    "                                 index=['Predict Positive:1', 'Predict Negative:0'])\n",
    "\n",
    "sns.heatmap(cm_matrix, annot=True, fmt='d', cmap='YlGnBu')"
   ]
  },
  {
   "cell_type": "markdown",
   "id": "d68f2ec3",
   "metadata": {},
   "source": [
    "<div dir='ltr' style='font-size:large;'> \n",
    "  For C=10, we obtained the following values:\n",
    "</div>"
   ]
  },
  {
   "cell_type": "code",
   "execution_count": 46,
   "id": "f85fe093",
   "metadata": {},
   "outputs": [
    {
     "data": {
      "text/plain": [
       "SVC(C=10, kernel='linear')"
      ]
     },
     "execution_count": 46,
     "metadata": {},
     "output_type": "execute_result"
    }
   ],
   "source": [
    "svm = SVC(kernel=\"linear\", C=10)\n",
    "svm.fit(x_train, y_train)\n"
   ]
  },
  {
   "cell_type": "code",
   "execution_count": 47,
   "id": "866eaf70",
   "metadata": {},
   "outputs": [
    {
     "data": {
      "text/plain": [
       "0.7662337662337663"
      ]
     },
     "execution_count": 47,
     "metadata": {},
     "output_type": "execute_result"
    }
   ],
   "source": [
    "y_pred=svm.predict(x_test)\n",
    "score = accuracy_score( y_test, y_pred)  \n",
    "score"
   ]
  },
  {
   "cell_type": "code",
   "execution_count": 48,
   "id": "bc1d8ed1",
   "metadata": {},
   "outputs": [
    {
     "data": {
      "text/plain": [
       "<AxesSubplot:>"
      ]
     },
     "execution_count": 48,
     "metadata": {},
     "output_type": "execute_result"
    },
    {
     "data": {
      "image/png": "[encoded data removed]",
      "text/plain": [
       "<Figure size 432x288 with 2 Axes>"
      ]
     },
     "metadata": {
      "needs_background": "light"
     },
     "output_type": "display_data"
    }
   ],
   "source": [
    "cm = confusion_matrix(y_test, y_pred)\n",
    "cm_matrix = pd.DataFrame(data=cm, columns=['Actual Positive:1', 'Actual Negative:0'], \n",
    "                                 index=['Predict Positive:1', 'Predict Negative:0'])\n",
    "\n",
    "sns.heatmap(cm_matrix, annot=True, fmt='d', cmap='YlGnBu')"
   ]
  },
  {
   "cell_type": "markdown",
   "id": "ce348ca7",
   "metadata": {},
   "source": [
    "<div dir='ltr' style='font-size:large;'> \n",
    "  For C=1, we obtained the following values:\n",
    "</div>\n"
   ]
  },
  {
   "cell_type": "code",
   "execution_count": 14,
   "id": "f55c879b",
   "metadata": {},
   "outputs": [
    {
     "data": {
      "text/plain": [
       "SVC(C=1, kernel='linear')"
      ]
     },
     "execution_count": 14,
     "metadata": {},
     "output_type": "execute_result"
    }
   ],
   "source": [
    "svm = SVC(kernel=\"linear\", C=1)\n",
    "svm.fit(x_train, y_train)\n"
   ]
  },
  {
   "cell_type": "code",
   "execution_count": 15,
   "id": "165f02b6",
   "metadata": {},
   "outputs": [
    {
     "data": {
      "text/plain": [
       "0.7532467532467533"
      ]
     },
     "execution_count": 15,
     "metadata": {},
     "output_type": "execute_result"
    }
   ],
   "source": [
    "y_pred=svm.predict(x_test)\n",
    "score = accuracy_score( y_test, y_pred)  \n",
    "score"
   ]
  },
  {
   "cell_type": "code",
   "execution_count": 16,
   "id": "81899d0f",
   "metadata": {},
   "outputs": [
    {
     "data": {
      "text/plain": [
       "<AxesSubplot:>"
      ]
     },
     "execution_count": 16,
     "metadata": {},
     "output_type": "execute_result"
    },
    {
     "data": {
      "image/png": "[encoded data removed]",
      "text/plain": [
       "<Figure size 432x288 with 2 Axes>"
      ]
     },
     "metadata": {
      "needs_background": "light"
     },
     "output_type": "display_data"
    }
   ],
   "source": [
    "cm = confusion_matrix(y_test, y_pred)\n",
    "cm_matrix = pd.DataFrame(data=cm, columns=['Actual Positive:1', 'Actual Negative:0'], \n",
    "                                 index=['Predict Positive:1', 'Predict Negative:0'])\n",
    "\n",
    "sns.heatmap(cm_matrix, annot=True, fmt='d', cmap='YlGnBu')"
   ]
  },
  {
   "cell_type": "markdown",
   "id": "9a77999d",
   "metadata": {},
   "source": [
    "<div dir='ltr' style='font-size:large;'> \n",
    "  For C=0.01, we obtained the following values:\n",
    "</div>\n"
   ]
  },
  {
   "cell_type": "code",
   "execution_count": 17,
   "id": "e931b50a",
   "metadata": {},
   "outputs": [
    {
     "data": {
      "text/plain": [
       "SVC(C=0.01, kernel='linear')"
      ]
     },
     "execution_count": 17,
     "metadata": {},
     "output_type": "execute_result"
    }
   ],
   "source": [
    "svm = SVC(kernel=\"linear\", C=0.01)\n",
    "svm.fit(x_train, y_train)\n"
   ]
  },
  {
   "cell_type": "code",
   "execution_count": 18,
   "id": "d74608b5",
   "metadata": {},
   "outputs": [
    {
     "data": {
      "text/plain": [
       "0.7337662337662337"
      ]
     },
     "execution_count": 18,
     "metadata": {},
     "output_type": "execute_result"
    }
   ],
   "source": [
    "y_pred=svm.predict(x_test)\n",
    "score = accuracy_score( y_test, y_pred)  \n",
    "score"
   ]
  },
  {
   "cell_type": "code",
   "execution_count": 19,
   "id": "ca58c0fb",
   "metadata": {},
   "outputs": [
    {
     "data": {
      "text/plain": [
       "<AxesSubplot:>"
      ]
     },
     "execution_count": 19,
     "metadata": {},
     "output_type": "execute_result"
    },
    {
     "data": {
      "image/png": "[encoded data removed]",
      "text/plain": [
       "<Figure size 432x288 with 2 Axes>"
      ]
     },
     "metadata": {
      "needs_background": "light"
     },
     "output_type": "display_data"
    }
   ],
   "source": [
    "cm = confusion_matrix(y_test, y_pred)\n",
    "cm_matrix = pd.DataFrame(data=cm, columns=['Actual Positive:1', 'Actual Negative:0'], \n",
    "                                 index=['Predict Positive:1', 'Predict Negative:0'])\n",
    "\n",
    "sns.heatmap(cm_matrix, annot=True, fmt='d', cmap='YlGnBu')"
   ]
  }
 ],
 "metadata": {
  "kernelspec": {
   "display_name": "Python 3 (ipykernel)",
   "language": "python",
   "name": "python3"
  },
  "language_info": {
   "codemirror_mode": {
    "name": "ipython",
    "version": 3
   },
   "file_extension": ".py",
   "mimetype": "text/x-python",
   "name": "python",
   "nbconvert_exporter": "python",
   "pygments_lexer": "ipython3",
   "version": "3.9.12"
  }
 },
 "nbformat": 4,
 "nbformat_minor": 5
}
